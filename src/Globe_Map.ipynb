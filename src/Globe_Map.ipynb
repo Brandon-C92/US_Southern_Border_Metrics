{
 "cells": [
  {
   "cell_type": "code",
   "execution_count": 7,
   "metadata": {},
   "outputs": [],
   "source": [
    "import pandas as pd\n",
    "import csv\n",
    "import matplotlib.pyplot as plt"
   ]
  },
  {
   "cell_type": "code",
   "execution_count": 8,
   "metadata": {},
   "outputs": [
    {
     "data": {
      "text/html": [
       "<div>\n",
       "<style scoped>\n",
       "    .dataframe tbody tr th:only-of-type {\n",
       "        vertical-align: middle;\n",
       "    }\n",
       "\n",
       "    .dataframe tbody tr th {\n",
       "        vertical-align: top;\n",
       "    }\n",
       "\n",
       "    .dataframe thead th {\n",
       "        text-align: right;\n",
       "    }\n",
       "</style>\n",
       "<table border=\"1\" class=\"dataframe\">\n",
       "  <thead>\n",
       "    <tr style=\"text-align: right;\">\n",
       "      <th></th>\n",
       "      <th>Country</th>\n",
       "      <th>Country_From</th>\n",
       "      <th>Direction</th>\n",
       "      <th>From</th>\n",
       "      <th>The</th>\n",
       "      <th>Blank</th>\n",
       "      <th>Latitude</th>\n",
       "      <th>Longitude</th>\n",
       "      <th>Population_Label</th>\n",
       "      <th>Migrants_Label</th>\n",
       "      <th>SQRT_Migrants</th>\n",
       "      <th>Sum_Total_Country_1</th>\n",
       "      <th>Sum_Total_Country_2</th>\n",
       "    </tr>\n",
       "  </thead>\n",
       "  <tbody>\n",
       "    <tr>\n",
       "      <th>0</th>\n",
       "      <td>United States</td>\n",
       "      <td>NaN</td>\n",
       "      <td>NaN</td>\n",
       "      <td>NaN</td>\n",
       "      <td>NaN</td>\n",
       "      <td>NaN</td>\n",
       "      <td>40.0792</td>\n",
       "      <td>-98.8164</td>\n",
       "      <td>NaN</td>\n",
       "      <td>NaN</td>\n",
       "      <td>NaN</td>\n",
       "      <td>251,703,000</td>\n",
       "      <td>7,594,950,000</td>\n",
       "    </tr>\n",
       "    <tr>\n",
       "      <th>1</th>\n",
       "      <td>United States</td>\n",
       "      <td>Afghanistan</td>\n",
       "      <td>in</td>\n",
       "      <td>from</td>\n",
       "      <td>the</td>\n",
       "      <td>NaN</td>\n",
       "      <td>34.0230</td>\n",
       "      <td>65.5267</td>\n",
       "      <td>Migrants in country (immigrants)</td>\n",
       "      <td>143,000</td>\n",
       "      <td>377.497019856</td>\n",
       "      <td>5,854,000</td>\n",
       "      <td>50,633,000</td>\n",
       "    </tr>\n",
       "    <tr>\n",
       "      <th>2</th>\n",
       "      <td>United States</td>\n",
       "      <td>Albania</td>\n",
       "      <td>in</td>\n",
       "      <td>from</td>\n",
       "      <td>the</td>\n",
       "      <td>NaN</td>\n",
       "      <td>40.6540</td>\n",
       "      <td>20.0760</td>\n",
       "      <td>Migrants in country (immigrants)</td>\n",
       "      <td>97,000</td>\n",
       "      <td>311.852529251</td>\n",
       "      <td>1,250,000</td>\n",
       "      <td>50,633,000</td>\n",
       "    </tr>\n",
       "    <tr>\n",
       "      <th>3</th>\n",
       "      <td>United States</td>\n",
       "      <td>Algeria</td>\n",
       "      <td>in</td>\n",
       "      <td>from</td>\n",
       "      <td>the</td>\n",
       "      <td>NaN</td>\n",
       "      <td>28.6045</td>\n",
       "      <td>2.6400</td>\n",
       "      <td>Migrants in country (immigrants)</td>\n",
       "      <td>29,000</td>\n",
       "      <td>168.911219284</td>\n",
       "      <td>2,022,000</td>\n",
       "      <td>50,633,000</td>\n",
       "    </tr>\n",
       "    <tr>\n",
       "      <th>4</th>\n",
       "      <td>United States</td>\n",
       "      <td>Angola</td>\n",
       "      <td>in</td>\n",
       "      <td>from</td>\n",
       "      <td>the</td>\n",
       "      <td>NaN</td>\n",
       "      <td>-12.8360</td>\n",
       "      <td>17.8080</td>\n",
       "      <td>Migrants in country (immigrants)</td>\n",
       "      <td>20,000</td>\n",
       "      <td>142.986013302</td>\n",
       "      <td>668,000</td>\n",
       "      <td>50,633,000</td>\n",
       "    </tr>\n",
       "    <tr>\n",
       "      <th>5</th>\n",
       "      <td>United States</td>\n",
       "      <td>Antigua and Barbuda</td>\n",
       "      <td>in</td>\n",
       "      <td>from</td>\n",
       "      <td>the</td>\n",
       "      <td>NaN</td>\n",
       "      <td>17.6250</td>\n",
       "      <td>-61.7860</td>\n",
       "      <td>Migrants in country (immigrants)</td>\n",
       "      <td>46,000</td>\n",
       "      <td>214.562345252</td>\n",
       "      <td>67,000</td>\n",
       "      <td>50,633,000</td>\n",
       "    </tr>\n",
       "    <tr>\n",
       "      <th>6</th>\n",
       "      <td>United States</td>\n",
       "      <td>Argentina</td>\n",
       "      <td>in</td>\n",
       "      <td>from</td>\n",
       "      <td>the</td>\n",
       "      <td>NaN</td>\n",
       "      <td>-33.1660</td>\n",
       "      <td>-64.3100</td>\n",
       "      <td>Migrants in country (immigrants)</td>\n",
       "      <td>219,000</td>\n",
       "      <td>468.452772433</td>\n",
       "      <td>1,076,000</td>\n",
       "      <td>50,633,000</td>\n",
       "    </tr>\n",
       "    <tr>\n",
       "      <th>7</th>\n",
       "      <td>United States</td>\n",
       "      <td>Armenia</td>\n",
       "      <td>in</td>\n",
       "      <td>from</td>\n",
       "      <td>the</td>\n",
       "      <td>NaN</td>\n",
       "      <td>40.5600</td>\n",
       "      <td>44.4490</td>\n",
       "      <td>Migrants in country (immigrants)</td>\n",
       "      <td>87,000</td>\n",
       "      <td>295.793847130</td>\n",
       "      <td>958,000</td>\n",
       "      <td>50,633,000</td>\n",
       "    </tr>\n",
       "    <tr>\n",
       "      <th>8</th>\n",
       "      <td>United States</td>\n",
       "      <td>Aruba</td>\n",
       "      <td>in</td>\n",
       "      <td>from</td>\n",
       "      <td>the</td>\n",
       "      <td>NaN</td>\n",
       "      <td>12.5176</td>\n",
       "      <td>-69.9818</td>\n",
       "      <td>Migrants in country (immigrants)</td>\n",
       "      <td>10,000</td>\n",
       "      <td>97.857038582</td>\n",
       "      <td>21,000</td>\n",
       "      <td>50,633,000</td>\n",
       "    </tr>\n",
       "    <tr>\n",
       "      <th>9</th>\n",
       "      <td>United States</td>\n",
       "      <td>Australia</td>\n",
       "      <td>in</td>\n",
       "      <td>from</td>\n",
       "      <td>the</td>\n",
       "      <td>NaN</td>\n",
       "      <td>-24.5780</td>\n",
       "      <td>133.5820</td>\n",
       "      <td>Migrants in country (immigrants)</td>\n",
       "      <td>103,000</td>\n",
       "      <td>321.630222461</td>\n",
       "      <td>599,000</td>\n",
       "      <td>50,633,000</td>\n",
       "    </tr>\n",
       "  </tbody>\n",
       "</table>\n",
       "</div>"
      ],
      "text/plain": [
       "         Country         Country_From Direction  From   The Blank  Latitude  \\\n",
       "0  United States                  NaN       NaN   NaN   NaN   NaN   40.0792   \n",
       "1  United States          Afghanistan        in  from  the    NaN   34.0230   \n",
       "2  United States              Albania        in  from  the    NaN   40.6540   \n",
       "3  United States              Algeria        in  from  the    NaN   28.6045   \n",
       "4  United States               Angola        in  from  the    NaN  -12.8360   \n",
       "5  United States  Antigua and Barbuda        in  from  the    NaN   17.6250   \n",
       "6  United States            Argentina        in  from  the    NaN  -33.1660   \n",
       "7  United States              Armenia        in  from  the    NaN   40.5600   \n",
       "8  United States                Aruba        in  from  the    NaN   12.5176   \n",
       "9  United States            Australia        in  from  the    NaN  -24.5780   \n",
       "\n",
       "   Longitude                  Population_Label Migrants_Label  SQRT_Migrants  \\\n",
       "0   -98.8164                               NaN            NaN            NaN   \n",
       "1    65.5267  Migrants in country (immigrants)        143,000  377.497019856   \n",
       "2    20.0760  Migrants in country (immigrants)         97,000  311.852529251   \n",
       "3     2.6400  Migrants in country (immigrants)         29,000  168.911219284   \n",
       "4    17.8080  Migrants in country (immigrants)         20,000  142.986013302   \n",
       "5   -61.7860  Migrants in country (immigrants)         46,000  214.562345252   \n",
       "6   -64.3100  Migrants in country (immigrants)        219,000  468.452772433   \n",
       "7    44.4490  Migrants in country (immigrants)         87,000  295.793847130   \n",
       "8   -69.9818  Migrants in country (immigrants)         10,000   97.857038582   \n",
       "9   133.5820  Migrants in country (immigrants)        103,000  321.630222461   \n",
       "\n",
       "  Sum_Total_Country_1 Sum_Total_Country_2  \n",
       "0         251,703,000       7,594,950,000  \n",
       "1           5,854,000          50,633,000  \n",
       "2           1,250,000          50,633,000  \n",
       "3           2,022,000          50,633,000  \n",
       "4             668,000          50,633,000  \n",
       "5              67,000          50,633,000  \n",
       "6           1,076,000          50,633,000  \n",
       "7             958,000          50,633,000  \n",
       "8              21,000          50,633,000  \n",
       "9             599,000          50,633,000  "
      ]
     },
     "execution_count": 8,
     "metadata": {},
     "output_type": "execute_result"
    }
   ],
   "source": [
    "\n",
    "\n",
    "# Read the CSV file including all columns\n",
    "csv_file_path = '/Users/brandoncooke/Public/NEW REP SPACE/US_Southern_Border_Metrics/Data/DATA FOR BORDER MAP/Sheet 1.csv'\n",
    "df = pd.read_csv(csv_file_path, sep='\\t', encoding='utf-16')\n",
    "\n",
    "# Exclude any unnamed columns\n",
    "df = df.loc[:, ~df.columns.str.contains('^Unnamed')]\n",
    "\n",
    "\n",
    "column_names = ['Country', 'Country_From', 'Direction', 'From', 'The','Blank', 'Latitude', 'Longitude', 'Population_Label', 'Migrants_Label', 'SQRT_Migrants', 'Sum_Total_Country_1', \"Sum_Total_Country_2\"]\n",
    "\n",
    "# Assign the adjusted column names to the DataFrame\n",
    "df.columns = column_names\n",
    "\n",
    "df.head(10)"
   ]
  },
  {
   "cell_type": "code",
   "execution_count": null,
   "metadata": {},
   "outputs": [],
   "source": []
  },
  {
   "cell_type": "code",
   "execution_count": 9,
   "metadata": {},
   "outputs": [
    {
     "name": "stdout",
     "output_type": "stream",
     "text": [
      "Index(['Country', 'Country_From', 'Direction', 'From', 'The', 'Blank',\n",
      "       'Latitude', 'Longitude', 'Population_Label', 'Migrants_Label',\n",
      "       'SQRT_Migrants', 'Sum_Total_Country_1', 'Sum_Total_Country_2'],\n",
      "      dtype='object')\n"
     ]
    }
   ],
   "source": [
    "print(df.columns)"
   ]
  },
  {
   "cell_type": "code",
   "execution_count": 10,
   "metadata": {},
   "outputs": [
    {
     "data": {
      "application/vnd.plotly.v1+json": {
       "config": {
        "plotlyServerURL": "https://plot.ly"
       },
       "data": [
        {
         "geo": "geo",
         "hovertemplate": "<b>%{hovertext}</b><br><br>Migrants_Label=%{marker.size}<br>Latitude=%{lat}<br>Longitude=%{lon}<extra></extra>",
         "hovertext": [
          "Afghanistan",
          "Albania",
          "Algeria",
          "Angola",
          "Antigua and Barbuda",
          "Argentina",
          "Armenia",
          "Aruba",
          "Australia",
          "Austria",
          "Azerbaijan",
          "Bahamas",
          "Bangladesh",
          "Barbados",
          "Belarus",
          "Belgium",
          "Belize",
          "Bermuda",
          "Bolivia",
          "Bosnia and Herzegovina",
          "Brazil",
          "Bulgaria",
          "Cabo Verde",
          "Cambodia",
          "Cameroon",
          "Canada",
          "Chile",
          "China",
          "China, Hong Kong SAR",
          "China, Macao SAR",
          "Colombia",
          "Costa Rica",
          "Côte d'Ivoire",
          "Croatia",
          "Cuba",
          "Cyprus",
          "Czechia",
          "Denmark",
          "Dominica",
          "Dominican Republic",
          "DR Congo",
          "Ecuador",
          "Egypt",
          "El Salvador",
          "Eritrea",
          "Estonia",
          "Ethiopia",
          "Fiji",
          "Finland",
          "France",
          "Gambia",
          "Georgia",
          "Germany",
          "Ghana",
          "Greece",
          "Grenada",
          "Guatemala",
          "Guinea",
          "Guyana",
          "Haiti",
          "Honduras",
          "Hungary",
          "Iceland",
          "India",
          "Indonesia",
          "Iran",
          "Iraq",
          "Ireland",
          "Israel",
          "Italy",
          "Jamaica",
          "Japan",
          "Jordan",
          "Kazakhstan",
          "Kenya",
          "Korea, Rep.",
          "Kuwait",
          "Kyrgyzstan",
          "Lao PDR",
          "Latvia",
          "Lebanon",
          "Liberia",
          "Libya",
          "Lithuania",
          "Luxembourg",
          "Malaysia",
          "Malta",
          "Marshall Islands",
          "Mexico",
          "Micronesia (Fed. States of)",
          "Moldova",
          "Montserrat",
          "Morocco",
          "Myanmar",
          "Nepal",
          "Netherlands",
          "New Zealand",
          "Nicaragua",
          "Nigeria",
          "North Macedonia",
          "Norway",
          "Pakistan",
          "Palestinian Territories",
          "Panama",
          "Paraguay",
          "Peru",
          "Philippines",
          "Poland",
          "Portugal",
          "Puerto Rico",
          "Romania",
          "Russian Federation",
          "Samoa",
          "Saudi Arabia",
          "Senegal",
          "Serbia",
          "Sierra Leone",
          "Singapore",
          "Slovenia",
          "Somalia",
          "South Africa",
          "Spain",
          "Sri Lanka",
          "St. Kitts and Nevis",
          "St. Lucia",
          "St. Vincent and the Grenadines",
          "Sudan",
          "Suriname",
          "Sweden",
          "Switzerland",
          "Syria",
          "Tajikistan",
          "Tanzania",
          "Thailand",
          "Tonga",
          "Trinidad and Tobago",
          "Tunisia",
          "Turkey",
          "Turkmenistan",
          "Uganda",
          "Ukraine",
          "United Arab Emirates",
          "United Kingdom",
          "Uruguay",
          "Uzbekistan",
          "Venezuela",
          "Vietnam",
          "Yemen",
          "Zambia",
          "Zimbabwe"
         ],
         "lat": [
          34.023,
          40.654,
          28.6045,
          -12.836,
          17.625,
          -33.166,
          40.56,
          12.5176,
          -24.578,
          47.65,
          40.46,
          24.7032,
          24.598,
          13.1898,
          53.3292,
          50.6745,
          17.108,
          32.3019,
          -16.71,
          44.342,
          -11.694,
          42.625,
          15.416,
          12.69,
          4.4,
          59.2067,
          -23.176,
          35.1753,
          22.4114,
          22.1404,
          3.794,
          10.126,
          7.497,
          45.754,
          20.571,
          34.894,
          49.848,
          56.113,
          15.4238,
          19.01,
          -1.418,
          -1.151,
          26.16,
          13.848,
          15.982,
          58.777,
          8.435,
          -17.7941,
          62.716,
          46.656,
          13.499,
          42.05,
          51.3819,
          7.258,
          39.787,
          12.111,
          15.124,
          10.599,
          5.17,
          19.3175,
          14.881,
          47.174,
          64.826,
          22.741,
          -0.739,
          33.408,
          33.545,
          53.214,
          30.992,
          44.3713,
          18.163,
          35.962,
          30.681,
          48.866,
          0.806,
          36.338,
          29.3169,
          41.741,
          19.595,
          57.017,
          34.161,
          6.51,
          27.24,
          55.342,
          49.671,
          4.416,
          35.9024,
          5.961,
          22.925,
          7.531,
          47.524,
          16.7492,
          31.129,
          21.841,
          28.2114,
          52.1704,
          -42.558,
          12.692,
          9.3417,
          41.636,
          61.3701,
          28.1854,
          32.097,
          8.348,
          -23.266,
          -12.664,
          17.181,
          52.442,
          40.957,
          18.242,
          45.933,
          64.736,
          -13.6221,
          24.191,
          15.044,
          44.021,
          8.677,
          1.3389,
          46.037,
          2.875,
          -31.7,
          40.617,
          7.3,
          17.147,
          13.909,
          13.2528,
          15.739,
          4.248,
          66.2188,
          46.7794,
          35.303,
          38.367,
          -5.651,
          15.688,
          -21.167,
          10.4435,
          35.594,
          39.144,
          39.584,
          1.9392,
          49.364,
          23.9299,
          52.289,
          -32.948,
          41.757,
          6.983,
          21.75,
          15.569,
          -15.13,
          -19.098
         ],
         "legendgroup": "",
         "lon": [
          65.5267,
          20.076,
          2.64,
          17.808,
          -61.786,
          -64.31,
          44.449,
          -69.9818,
          133.582,
          14.705,
          47.883,
          -78.0455,
          90.1963,
          -59.559,
          27.9492,
          4.4588,
          -88.744,
          -64.7737,
          -65.183,
          17.804,
          -48.978,
          24.521,
          -23.36,
          104.444,
          12.131,
          -111.1937,
          -69.201,
          99.3877,
          114.0599,
          113.5643,
          -73.606,
          -84.075,
          -5.336,
          16.385,
          -76.456,
          32.928,
          15.2812,
          9.096,
          -61.3411,
          -70.1685,
          23.607,
          -78.308,
          28.742,
          -89.229,
          38.02,
          25.977,
          38.786,
          177.9783,
          26.192,
          2.543,
          -14.641,
          43.576,
          9.9877,
          -1.062,
          21.617,
          -61.6867,
          -90.711,
          -10.907,
          -58.939,
          -72.4205,
          -87.123,
          19.618,
          -18.417,
          78.236,
          114.045,
          54.0418,
          43.278,
          -7.588,
          34.834,
          11.1084,
          -77.477,
          137.855,
          36.279,
          69.772,
          38.166,
          128.16,
          47.4272,
          75.043,
          102.538,
          25.0173,
          36.021,
          -9.33,
          17.571,
          24.23,
          6.113,
          102.099,
          14.4137,
          169.651,
          -101.68,
          150.457,
          28.444,
          -62.1928,
          -7.355,
          96.05,
          83.5608,
          5.0102,
          172.377,
          -85.03,
          7.678,
          21.676,
          9.3031,
          66.6429,
          35.26,
          -81.005,
          -58.409,
          -72.98,
          121.256,
          19.72,
          -7.9373,
          -66.643,
          25.119,
          104.062,
          -172.439,
          44.32,
          -15.081,
          20.699,
          -11.779,
          103.8297,
          14.534,
          43.446,
          23.441,
          -3.388,
          80.727,
          -62.58,
          -60.9776,
          -61.1949,
          29.533,
          -55.848,
          19,
          8.0329,
          38.322,
          72.597,
          34.146,
          100.845,
          -175.19,
          -61.2604,
          9.421,
          34.188,
          59.597,
          32.7415,
          32.132,
          53.9031,
          -1.259,
          -56.249,
          63.958,
          -64.588,
          105.373,
          47.793,
          25.268,
          30.047
         ],
         "marker": {
          "color": "blue",
          "size": [
           143000,
           97000,
           29000,
           20000,
           46000,
           219000,
           87000,
           10000,
           103000,
           39000,
           32000,
           47000,
           261000,
           52000,
           52000,
           31000,
           43000,
           13000,
           80000,
           104000,
           518000,
           64000,
           36000,
           155000,
           70000,
           794000,
           90000,
           2184000,
           231000,
           18000,
           818000,
           97000,
           42000,
           36000,
           1376000,
           30000,
           110000,
           33000,
           36000,
           1168000,
           37000,
           425000,
           205000,
           1411000,
           52000,
           16000,
           246000,
           52000,
           32000,
           162000,
           34000,
           39000,
           534000,
           201000,
           117000,
           25000,
           1227000,
           30000,
           242000,
           705000,
           773000,
           64000,
           8000,
           2724000,
           106000,
           387000,
           256000,
           106000,
           134000,
           310000,
           792000,
           320000,
           91000,
           36000,
           157000,
           1039000,
           29000,
           9000,
           173000,
           22000,
           119000,
           105000,
           14000,
           32000,
           4000,
           74000,
           12000,
           10000,
           10853000,
           12000,
           46000,
           10000,
           76000,
           156000,
           176000,
           80000,
           50000,
           255000,
           402000,
           33000,
           18000,
           408000,
           58000,
           100000,
           46000,
           436000,
           2061000,
           407000,
           191000,
           1829000,
           170000,
           397000,
           27000,
           78000,
           61000,
           40000,
           44000,
           34000,
           14000,
           121000,
           117000,
           103000,
           52000,
           28000,
           34000,
           15000,
           51000,
           21000,
           41000,
           48000,
           84000,
           7000,
           73000,
           257000,
           29000,
           208000,
           176000,
           113000,
           3000,
           66000,
           370000,
           18000,
           674000,
           50000,
           63000,
           506000,
           1403000,
           57000,
           36000,
           81000
          ],
          "sizemode": "area",
          "sizeref": 27132.5,
          "symbol": "circle"
         },
         "mode": "markers",
         "name": "",
         "showlegend": false,
         "type": "scattergeo"
        }
       ],
       "layout": {
        "geo": {
         "center": {},
         "countrywidth": 1,
         "domain": {
          "x": [
           0,
           1
          ],
          "y": [
           0,
           1
          ]
         },
         "lakecolor": "rgb(173, 216, 230)",
         "landcolor": "rgb(230, 230, 230)",
         "oceancolor": "rgb(173, 216, 230)",
         "projection": {
          "type": "orthographic"
         },
         "rivercolor": "rgb(173, 216, 230)",
         "showcoastlines": true,
         "showcountries": true,
         "showframe": false,
         "showlakes": true,
         "showland": true,
         "showocean": true,
         "showrivers": true
        },
        "height": 1000,
        "legend": {
         "itemsizing": "constant",
         "tracegroupgap": 0
        },
        "margin": {
         "t": 60
        },
        "template": {
         "data": {
          "bar": [
           {
            "error_x": {
             "color": "#2a3f5f"
            },
            "error_y": {
             "color": "#2a3f5f"
            },
            "marker": {
             "line": {
              "color": "#E5ECF6",
              "width": 0.5
             },
             "pattern": {
              "fillmode": "overlay",
              "size": 10,
              "solidity": 0.2
             }
            },
            "type": "bar"
           }
          ],
          "barpolar": [
           {
            "marker": {
             "line": {
              "color": "#E5ECF6",
              "width": 0.5
             },
             "pattern": {
              "fillmode": "overlay",
              "size": 10,
              "solidity": 0.2
             }
            },
            "type": "barpolar"
           }
          ],
          "carpet": [
           {
            "aaxis": {
             "endlinecolor": "#2a3f5f",
             "gridcolor": "white",
             "linecolor": "white",
             "minorgridcolor": "white",
             "startlinecolor": "#2a3f5f"
            },
            "baxis": {
             "endlinecolor": "#2a3f5f",
             "gridcolor": "white",
             "linecolor": "white",
             "minorgridcolor": "white",
             "startlinecolor": "#2a3f5f"
            },
            "type": "carpet"
           }
          ],
          "choropleth": [
           {
            "colorbar": {
             "outlinewidth": 0,
             "ticks": ""
            },
            "type": "choropleth"
           }
          ],
          "contour": [
           {
            "colorbar": {
             "outlinewidth": 0,
             "ticks": ""
            },
            "colorscale": [
             [
              0,
              "#0d0887"
             ],
             [
              0.1111111111111111,
              "#46039f"
             ],
             [
              0.2222222222222222,
              "#7201a8"
             ],
             [
              0.3333333333333333,
              "#9c179e"
             ],
             [
              0.4444444444444444,
              "#bd3786"
             ],
             [
              0.5555555555555556,
              "#d8576b"
             ],
             [
              0.6666666666666666,
              "#ed7953"
             ],
             [
              0.7777777777777778,
              "#fb9f3a"
             ],
             [
              0.8888888888888888,
              "#fdca26"
             ],
             [
              1,
              "#f0f921"
             ]
            ],
            "type": "contour"
           }
          ],
          "contourcarpet": [
           {
            "colorbar": {
             "outlinewidth": 0,
             "ticks": ""
            },
            "type": "contourcarpet"
           }
          ],
          "heatmap": [
           {
            "colorbar": {
             "outlinewidth": 0,
             "ticks": ""
            },
            "colorscale": [
             [
              0,
              "#0d0887"
             ],
             [
              0.1111111111111111,
              "#46039f"
             ],
             [
              0.2222222222222222,
              "#7201a8"
             ],
             [
              0.3333333333333333,
              "#9c179e"
             ],
             [
              0.4444444444444444,
              "#bd3786"
             ],
             [
              0.5555555555555556,
              "#d8576b"
             ],
             [
              0.6666666666666666,
              "#ed7953"
             ],
             [
              0.7777777777777778,
              "#fb9f3a"
             ],
             [
              0.8888888888888888,
              "#fdca26"
             ],
             [
              1,
              "#f0f921"
             ]
            ],
            "type": "heatmap"
           }
          ],
          "heatmapgl": [
           {
            "colorbar": {
             "outlinewidth": 0,
             "ticks": ""
            },
            "colorscale": [
             [
              0,
              "#0d0887"
             ],
             [
              0.1111111111111111,
              "#46039f"
             ],
             [
              0.2222222222222222,
              "#7201a8"
             ],
             [
              0.3333333333333333,
              "#9c179e"
             ],
             [
              0.4444444444444444,
              "#bd3786"
             ],
             [
              0.5555555555555556,
              "#d8576b"
             ],
             [
              0.6666666666666666,
              "#ed7953"
             ],
             [
              0.7777777777777778,
              "#fb9f3a"
             ],
             [
              0.8888888888888888,
              "#fdca26"
             ],
             [
              1,
              "#f0f921"
             ]
            ],
            "type": "heatmapgl"
           }
          ],
          "histogram": [
           {
            "marker": {
             "pattern": {
              "fillmode": "overlay",
              "size": 10,
              "solidity": 0.2
             }
            },
            "type": "histogram"
           }
          ],
          "histogram2d": [
           {
            "colorbar": {
             "outlinewidth": 0,
             "ticks": ""
            },
            "colorscale": [
             [
              0,
              "#0d0887"
             ],
             [
              0.1111111111111111,
              "#46039f"
             ],
             [
              0.2222222222222222,
              "#7201a8"
             ],
             [
              0.3333333333333333,
              "#9c179e"
             ],
             [
              0.4444444444444444,
              "#bd3786"
             ],
             [
              0.5555555555555556,
              "#d8576b"
             ],
             [
              0.6666666666666666,
              "#ed7953"
             ],
             [
              0.7777777777777778,
              "#fb9f3a"
             ],
             [
              0.8888888888888888,
              "#fdca26"
             ],
             [
              1,
              "#f0f921"
             ]
            ],
            "type": "histogram2d"
           }
          ],
          "histogram2dcontour": [
           {
            "colorbar": {
             "outlinewidth": 0,
             "ticks": ""
            },
            "colorscale": [
             [
              0,
              "#0d0887"
             ],
             [
              0.1111111111111111,
              "#46039f"
             ],
             [
              0.2222222222222222,
              "#7201a8"
             ],
             [
              0.3333333333333333,
              "#9c179e"
             ],
             [
              0.4444444444444444,
              "#bd3786"
             ],
             [
              0.5555555555555556,
              "#d8576b"
             ],
             [
              0.6666666666666666,
              "#ed7953"
             ],
             [
              0.7777777777777778,
              "#fb9f3a"
             ],
             [
              0.8888888888888888,
              "#fdca26"
             ],
             [
              1,
              "#f0f921"
             ]
            ],
            "type": "histogram2dcontour"
           }
          ],
          "mesh3d": [
           {
            "colorbar": {
             "outlinewidth": 0,
             "ticks": ""
            },
            "type": "mesh3d"
           }
          ],
          "parcoords": [
           {
            "line": {
             "colorbar": {
              "outlinewidth": 0,
              "ticks": ""
             }
            },
            "type": "parcoords"
           }
          ],
          "pie": [
           {
            "automargin": true,
            "type": "pie"
           }
          ],
          "scatter": [
           {
            "fillpattern": {
             "fillmode": "overlay",
             "size": 10,
             "solidity": 0.2
            },
            "type": "scatter"
           }
          ],
          "scatter3d": [
           {
            "line": {
             "colorbar": {
              "outlinewidth": 0,
              "ticks": ""
             }
            },
            "marker": {
             "colorbar": {
              "outlinewidth": 0,
              "ticks": ""
             }
            },
            "type": "scatter3d"
           }
          ],
          "scattercarpet": [
           {
            "marker": {
             "colorbar": {
              "outlinewidth": 0,
              "ticks": ""
             }
            },
            "type": "scattercarpet"
           }
          ],
          "scattergeo": [
           {
            "marker": {
             "colorbar": {
              "outlinewidth": 0,
              "ticks": ""
             }
            },
            "type": "scattergeo"
           }
          ],
          "scattergl": [
           {
            "marker": {
             "colorbar": {
              "outlinewidth": 0,
              "ticks": ""
             }
            },
            "type": "scattergl"
           }
          ],
          "scattermapbox": [
           {
            "marker": {
             "colorbar": {
              "outlinewidth": 0,
              "ticks": ""
             }
            },
            "type": "scattermapbox"
           }
          ],
          "scatterpolar": [
           {
            "marker": {
             "colorbar": {
              "outlinewidth": 0,
              "ticks": ""
             }
            },
            "type": "scatterpolar"
           }
          ],
          "scatterpolargl": [
           {
            "marker": {
             "colorbar": {
              "outlinewidth": 0,
              "ticks": ""
             }
            },
            "type": "scatterpolargl"
           }
          ],
          "scatterternary": [
           {
            "marker": {
             "colorbar": {
              "outlinewidth": 0,
              "ticks": ""
             }
            },
            "type": "scatterternary"
           }
          ],
          "surface": [
           {
            "colorbar": {
             "outlinewidth": 0,
             "ticks": ""
            },
            "colorscale": [
             [
              0,
              "#0d0887"
             ],
             [
              0.1111111111111111,
              "#46039f"
             ],
             [
              0.2222222222222222,
              "#7201a8"
             ],
             [
              0.3333333333333333,
              "#9c179e"
             ],
             [
              0.4444444444444444,
              "#bd3786"
             ],
             [
              0.5555555555555556,
              "#d8576b"
             ],
             [
              0.6666666666666666,
              "#ed7953"
             ],
             [
              0.7777777777777778,
              "#fb9f3a"
             ],
             [
              0.8888888888888888,
              "#fdca26"
             ],
             [
              1,
              "#f0f921"
             ]
            ],
            "type": "surface"
           }
          ],
          "table": [
           {
            "cells": {
             "fill": {
              "color": "#EBF0F8"
             },
             "line": {
              "color": "white"
             }
            },
            "header": {
             "fill": {
              "color": "#C8D4E3"
             },
             "line": {
              "color": "white"
             }
            },
            "type": "table"
           }
          ]
         },
         "layout": {
          "annotationdefaults": {
           "arrowcolor": "#2a3f5f",
           "arrowhead": 0,
           "arrowwidth": 1
          },
          "autotypenumbers": "strict",
          "coloraxis": {
           "colorbar": {
            "outlinewidth": 0,
            "ticks": ""
           }
          },
          "colorscale": {
           "diverging": [
            [
             0,
             "#8e0152"
            ],
            [
             0.1,
             "#c51b7d"
            ],
            [
             0.2,
             "#de77ae"
            ],
            [
             0.3,
             "#f1b6da"
            ],
            [
             0.4,
             "#fde0ef"
            ],
            [
             0.5,
             "#f7f7f7"
            ],
            [
             0.6,
             "#e6f5d0"
            ],
            [
             0.7,
             "#b8e186"
            ],
            [
             0.8,
             "#7fbc41"
            ],
            [
             0.9,
             "#4d9221"
            ],
            [
             1,
             "#276419"
            ]
           ],
           "sequential": [
            [
             0,
             "#0d0887"
            ],
            [
             0.1111111111111111,
             "#46039f"
            ],
            [
             0.2222222222222222,
             "#7201a8"
            ],
            [
             0.3333333333333333,
             "#9c179e"
            ],
            [
             0.4444444444444444,
             "#bd3786"
            ],
            [
             0.5555555555555556,
             "#d8576b"
            ],
            [
             0.6666666666666666,
             "#ed7953"
            ],
            [
             0.7777777777777778,
             "#fb9f3a"
            ],
            [
             0.8888888888888888,
             "#fdca26"
            ],
            [
             1,
             "#f0f921"
            ]
           ],
           "sequentialminus": [
            [
             0,
             "#0d0887"
            ],
            [
             0.1111111111111111,
             "#46039f"
            ],
            [
             0.2222222222222222,
             "#7201a8"
            ],
            [
             0.3333333333333333,
             "#9c179e"
            ],
            [
             0.4444444444444444,
             "#bd3786"
            ],
            [
             0.5555555555555556,
             "#d8576b"
            ],
            [
             0.6666666666666666,
             "#ed7953"
            ],
            [
             0.7777777777777778,
             "#fb9f3a"
            ],
            [
             0.8888888888888888,
             "#fdca26"
            ],
            [
             1,
             "#f0f921"
            ]
           ]
          },
          "colorway": [
           "#636efa",
           "#EF553B",
           "#00cc96",
           "#ab63fa",
           "#FFA15A",
           "#19d3f3",
           "#FF6692",
           "#B6E880",
           "#FF97FF",
           "#FECB52"
          ],
          "font": {
           "color": "#2a3f5f"
          },
          "geo": {
           "bgcolor": "white",
           "lakecolor": "white",
           "landcolor": "#E5ECF6",
           "showlakes": true,
           "showland": true,
           "subunitcolor": "white"
          },
          "hoverlabel": {
           "align": "left"
          },
          "hovermode": "closest",
          "mapbox": {
           "style": "light"
          },
          "paper_bgcolor": "white",
          "plot_bgcolor": "#E5ECF6",
          "polar": {
           "angularaxis": {
            "gridcolor": "white",
            "linecolor": "white",
            "ticks": ""
           },
           "bgcolor": "#E5ECF6",
           "radialaxis": {
            "gridcolor": "white",
            "linecolor": "white",
            "ticks": ""
           }
          },
          "scene": {
           "xaxis": {
            "backgroundcolor": "#E5ECF6",
            "gridcolor": "white",
            "gridwidth": 2,
            "linecolor": "white",
            "showbackground": true,
            "ticks": "",
            "zerolinecolor": "white"
           },
           "yaxis": {
            "backgroundcolor": "#E5ECF6",
            "gridcolor": "white",
            "gridwidth": 2,
            "linecolor": "white",
            "showbackground": true,
            "ticks": "",
            "zerolinecolor": "white"
           },
           "zaxis": {
            "backgroundcolor": "#E5ECF6",
            "gridcolor": "white",
            "gridwidth": 2,
            "linecolor": "white",
            "showbackground": true,
            "ticks": "",
            "zerolinecolor": "white"
           }
          },
          "shapedefaults": {
           "line": {
            "color": "#2a3f5f"
           }
          },
          "ternary": {
           "aaxis": {
            "gridcolor": "white",
            "linecolor": "white",
            "ticks": ""
           },
           "baxis": {
            "gridcolor": "white",
            "linecolor": "white",
            "ticks": ""
           },
           "bgcolor": "#E5ECF6",
           "caxis": {
            "gridcolor": "white",
            "linecolor": "white",
            "ticks": ""
           }
          },
          "title": {
           "x": 0.05
          },
          "xaxis": {
           "automargin": true,
           "gridcolor": "white",
           "linecolor": "white",
           "ticks": "",
           "title": {
            "standoff": 15
           },
           "zerolinecolor": "white",
           "zerolinewidth": 2
          },
          "yaxis": {
           "automargin": true,
           "gridcolor": "white",
           "linecolor": "white",
           "ticks": "",
           "title": {
            "standoff": 15
           },
           "zerolinecolor": "white",
           "zerolinewidth": 2
          }
         }
        },
        "title": {
         "text": "Migrants to the United States from Other Countries"
        },
        "width": 1000
       }
      }
     },
     "metadata": {},
     "output_type": "display_data"
    }
   ],
   "source": [
    "import pandas as pd\n",
    "import plotly.express as px\n",
    "\n",
    "\n",
    "migrants_df = df[df['Country_From'].notna()].copy()\n",
    "\n",
    "# Convert 'Sum_Total_Country_1' column to numeric\n",
    "migrants_df['Migrants_Label'] = pd.to_numeric(migrants_df['Migrants_Label'].str.replace(',', ''), errors='coerce')\n",
    "\n",
    "# Create a scatter plot using Plotly\n",
    "fig = px.scatter_geo(migrants_df, \n",
    "                     lon='Longitude', \n",
    "                     lat='Latitude', \n",
    "                     hover_name='Country_From',\n",
    "                     color_discrete_sequence=['blue'],\n",
    "                     size='Migrants_Label',  # Use 'Sum_Total_Country_1' for size\n",
    "                     projection='orthographic')  \n",
    "\n",
    "\n",
    "fig.update_layout(\n",
    "    title='Migrants to the United States from Other Countries',\n",
    "    geo=dict(\n",
    "        landcolor='rgb(230, 230, 230)',  \n",
    "        showocean=True,  \n",
    "        oceancolor='rgb(173, 216, 230)', \n",
    "        showland=True,  \n",
    "        showlakes=True,  \n",
    "        lakecolor='rgb(173, 216, 230)',  \n",
    "        showrivers=True,  \n",
    "        rivercolor='rgb(173, 216, 230)',  \n",
    "        showframe=False,  \n",
    "        showcoastlines=True, \n",
    "        showcountries=True,\n",
    "        countrywidth=1, \n",
    "    ),\n",
    "    width=1000,\n",
    "    height=1000\n",
    ")\n",
    "\n",
    "fig.show()\n",
    "\n",
    "# Save the plot as an HTML file\n",
    "fig.write_html(\"migrants_map.html\")\n"
   ]
  },
  {
   "cell_type": "code",
   "execution_count": 11,
   "metadata": {},
   "outputs": [
    {
     "name": "stderr",
     "output_type": "stream",
     "text": [
      "/var/folders/ly/6s9xls1s5k92nhwz4573k3vm0000gp/T/ipykernel_47668/2772324174.py:8: SettingWithCopyWarning:\n",
      "\n",
      "\n",
      "A value is trying to be set on a copy of a slice from a DataFrame.\n",
      "Try using .loc[row_indexer,col_indexer] = value instead\n",
      "\n",
      "See the caveats in the documentation: https://pandas.pydata.org/pandas-docs/stable/user_guide/indexing.html#returning-a-view-versus-a-copy\n",
      "\n"
     ]
    },
    {
     "data": {
      "application/vnd.plotly.v1+json": {
       "config": {
        "plotlyServerURL": "https://plot.ly"
       },
       "data": [
        {
         "lat": [
          34.023,
          40.654,
          28.6045,
          -12.836,
          17.625,
          -33.166,
          40.56,
          12.5176,
          -24.578,
          47.65,
          40.46,
          24.7032,
          24.598,
          13.1898,
          53.3292,
          50.6745,
          17.108,
          32.3019,
          -16.71,
          44.342,
          -11.694,
          42.625,
          15.416,
          12.69,
          4.4,
          59.2067,
          -23.176,
          35.1753,
          22.4114,
          22.1404,
          3.794,
          10.126,
          7.497,
          45.754,
          20.571,
          34.894,
          49.848,
          56.113,
          15.4238,
          19.01,
          -1.418,
          -1.151,
          26.16,
          13.848,
          15.982,
          58.777,
          8.435,
          -17.7941,
          62.716,
          46.656,
          13.499,
          42.05,
          51.3819,
          7.258,
          39.787,
          12.111,
          15.124,
          10.599,
          5.17,
          19.3175,
          14.881,
          47.174,
          64.826,
          22.741,
          -0.739,
          33.408,
          33.545,
          53.214,
          30.992,
          44.3713,
          18.163,
          35.962,
          30.681,
          48.866,
          0.806,
          36.338,
          29.3169,
          41.741,
          19.595,
          57.017,
          34.161,
          6.51,
          27.24,
          55.342,
          49.671,
          4.416,
          35.9024,
          5.961,
          22.925,
          7.531,
          47.524,
          16.7492,
          31.129,
          21.841,
          28.2114,
          52.1704,
          -42.558,
          12.692,
          9.3417,
          41.636,
          61.3701,
          28.1854,
          32.097,
          8.348,
          -23.266,
          -12.664,
          17.181,
          52.442,
          40.957,
          18.242,
          45.933,
          64.736,
          -13.6221,
          24.191,
          15.044,
          44.021,
          8.677,
          1.3389,
          46.037,
          2.875,
          -31.7,
          40.617,
          7.3,
          17.147,
          13.909,
          13.2528,
          15.739,
          4.248,
          66.2188,
          46.7794,
          35.303,
          38.367,
          -5.651,
          15.688,
          -21.167,
          10.4435,
          35.594,
          39.144,
          39.584,
          1.9392,
          49.364,
          23.9299,
          52.289,
          -32.948,
          41.757,
          6.983,
          21.75,
          15.569,
          -15.13,
          -19.098
         ],
         "lon": [
          65.5267,
          20.076,
          2.64,
          17.808,
          -61.786,
          -64.31,
          44.449,
          -69.9818,
          133.582,
          14.705,
          47.883,
          -78.0455,
          90.1963,
          -59.559,
          27.9492,
          4.4588,
          -88.744,
          -64.7737,
          -65.183,
          17.804,
          -48.978,
          24.521,
          -23.36,
          104.444,
          12.131,
          -111.1937,
          -69.201,
          99.3877,
          114.0599,
          113.5643,
          -73.606,
          -84.075,
          -5.336,
          16.385,
          -76.456,
          32.928,
          15.2812,
          9.096,
          -61.3411,
          -70.1685,
          23.607,
          -78.308,
          28.742,
          -89.229,
          38.02,
          25.977,
          38.786,
          177.9783,
          26.192,
          2.543,
          -14.641,
          43.576,
          9.9877,
          -1.062,
          21.617,
          -61.6867,
          -90.711,
          -10.907,
          -58.939,
          -72.4205,
          -87.123,
          19.618,
          -18.417,
          78.236,
          114.045,
          54.0418,
          43.278,
          -7.588,
          34.834,
          11.1084,
          -77.477,
          137.855,
          36.279,
          69.772,
          38.166,
          128.16,
          47.4272,
          75.043,
          102.538,
          25.0173,
          36.021,
          -9.33,
          17.571,
          24.23,
          6.113,
          102.099,
          14.4137,
          169.651,
          -101.68,
          150.457,
          28.444,
          -62.1928,
          -7.355,
          96.05,
          83.5608,
          5.0102,
          172.377,
          -85.03,
          7.678,
          21.676,
          9.3031,
          66.6429,
          35.26,
          -81.005,
          -58.409,
          -72.98,
          121.256,
          19.72,
          -7.9373,
          -66.643,
          25.119,
          104.062,
          -172.439,
          44.32,
          -15.081,
          20.699,
          -11.779,
          103.8297,
          14.534,
          43.446,
          23.441,
          -3.388,
          80.727,
          -62.58,
          -60.9776,
          -61.1949,
          29.533,
          -55.848,
          19,
          8.0329,
          38.322,
          72.597,
          34.146,
          100.845,
          -175.19,
          -61.2604,
          9.421,
          34.188,
          59.597,
          32.7415,
          32.132,
          53.9031,
          -1.259,
          -56.249,
          63.958,
          -64.588,
          105.373,
          47.793,
          25.268,
          30.047
         ],
         "marker": {
          "cmax": 10853000,
          "cmin": 0,
          "color": [
           143000,
           97000,
           29000,
           20000,
           46000,
           219000,
           87000,
           10000,
           103000,
           39000,
           32000,
           47000,
           261000,
           52000,
           52000,
           31000,
           43000,
           13000,
           80000,
           104000,
           518000,
           64000,
           36000,
           155000,
           70000,
           794000,
           90000,
           2184000,
           231000,
           18000,
           818000,
           97000,
           42000,
           36000,
           1376000,
           30000,
           110000,
           33000,
           36000,
           1168000,
           37000,
           425000,
           205000,
           1411000,
           52000,
           16000,
           246000,
           52000,
           32000,
           162000,
           34000,
           39000,
           534000,
           201000,
           117000,
           25000,
           1227000,
           30000,
           242000,
           705000,
           773000,
           64000,
           8000,
           2724000,
           106000,
           387000,
           256000,
           106000,
           134000,
           310000,
           792000,
           320000,
           91000,
           36000,
           157000,
           1039000,
           29000,
           9000,
           173000,
           22000,
           119000,
           105000,
           14000,
           32000,
           4000,
           74000,
           12000,
           10000,
           10853000,
           12000,
           46000,
           10000,
           76000,
           156000,
           176000,
           80000,
           50000,
           255000,
           402000,
           33000,
           18000,
           408000,
           58000,
           100000,
           46000,
           436000,
           2061000,
           407000,
           191000,
           1829000,
           170000,
           397000,
           27000,
           78000,
           61000,
           40000,
           44000,
           34000,
           14000,
           121000,
           117000,
           103000,
           52000,
           28000,
           34000,
           15000,
           51000,
           21000,
           41000,
           48000,
           84000,
           7000,
           73000,
           257000,
           29000,
           208000,
           176000,
           113000,
           3000,
           66000,
           370000,
           18000,
           674000,
           50000,
           63000,
           506000,
           1403000,
           57000,
           36000,
           81000
          ],
          "colorbar": {
           "title": {
            "text": "Migrants"
           }
          },
          "colorscale": [
           [
            0,
            "#440154"
           ],
           [
            0.1111111111111111,
            "#482878"
           ],
           [
            0.2222222222222222,
            "#3e4989"
           ],
           [
            0.3333333333333333,
            "#31688e"
           ],
           [
            0.4444444444444444,
            "#26828e"
           ],
           [
            0.5555555555555556,
            "#1f9e89"
           ],
           [
            0.6666666666666666,
            "#35b779"
           ],
           [
            0.7777777777777778,
            "#6ece58"
           ],
           [
            0.8888888888888888,
            "#b5de2b"
           ],
           [
            1,
            "#fde725"
           ]
          ],
          "reversescale": true
         },
         "text": [
          "Afghanistan",
          "Albania",
          "Algeria",
          "Angola",
          "Antigua and Barbuda",
          "Argentina",
          "Armenia",
          "Aruba",
          "Australia",
          "Austria",
          "Azerbaijan",
          "Bahamas",
          "Bangladesh",
          "Barbados",
          "Belarus",
          "Belgium",
          "Belize",
          "Bermuda",
          "Bolivia",
          "Bosnia and Herzegovina",
          "Brazil",
          "Bulgaria",
          "Cabo Verde",
          "Cambodia",
          "Cameroon",
          "Canada",
          "Chile",
          "China",
          "China, Hong Kong SAR",
          "China, Macao SAR",
          "Colombia",
          "Costa Rica",
          "Côte d'Ivoire",
          "Croatia",
          "Cuba",
          "Cyprus",
          "Czechia",
          "Denmark",
          "Dominica",
          "Dominican Republic",
          "DR Congo",
          "Ecuador",
          "Egypt",
          "El Salvador",
          "Eritrea",
          "Estonia",
          "Ethiopia",
          "Fiji",
          "Finland",
          "France",
          "Gambia",
          "Georgia",
          "Germany",
          "Ghana",
          "Greece",
          "Grenada",
          "Guatemala",
          "Guinea",
          "Guyana",
          "Haiti",
          "Honduras",
          "Hungary",
          "Iceland",
          "India",
          "Indonesia",
          "Iran",
          "Iraq",
          "Ireland",
          "Israel",
          "Italy",
          "Jamaica",
          "Japan",
          "Jordan",
          "Kazakhstan",
          "Kenya",
          "Korea, Rep.",
          "Kuwait",
          "Kyrgyzstan",
          "Lao PDR",
          "Latvia",
          "Lebanon",
          "Liberia",
          "Libya",
          "Lithuania",
          "Luxembourg",
          "Malaysia",
          "Malta",
          "Marshall Islands",
          "Mexico",
          "Micronesia (Fed. States of)",
          "Moldova",
          "Montserrat",
          "Morocco",
          "Myanmar",
          "Nepal",
          "Netherlands",
          "New Zealand",
          "Nicaragua",
          "Nigeria",
          "North Macedonia",
          "Norway",
          "Pakistan",
          "Palestinian Territories",
          "Panama",
          "Paraguay",
          "Peru",
          "Philippines",
          "Poland",
          "Portugal",
          "Puerto Rico",
          "Romania",
          "Russian Federation",
          "Samoa",
          "Saudi Arabia",
          "Senegal",
          "Serbia",
          "Sierra Leone",
          "Singapore",
          "Slovenia",
          "Somalia",
          "South Africa",
          "Spain",
          "Sri Lanka",
          "St. Kitts and Nevis",
          "St. Lucia",
          "St. Vincent and the Grenadines",
          "Sudan",
          "Suriname",
          "Sweden",
          "Switzerland",
          "Syria",
          "Tajikistan",
          "Tanzania",
          "Thailand",
          "Tonga",
          "Trinidad and Tobago",
          "Tunisia",
          "Turkey",
          "Turkmenistan",
          "Uganda",
          "Ukraine",
          "United Arab Emirates",
          "United Kingdom",
          "Uruguay",
          "Uzbekistan",
          "Venezuela",
          "Vietnam",
          "Yemen",
          "Zambia",
          "Zimbabwe"
         ],
         "type": "scattergeo"
        }
       ],
       "layout": {
        "geo": {
         "coastlinecolor": "rgb(160, 160, 160)",
         "countrywidth": 1,
         "lakecolor": "rgb(173, 216, 230)",
         "landcolor": "rgb(230, 230, 230)",
         "oceancolor": "rgb(173, 216, 230)",
         "projection": {
          "type": "orthographic"
         },
         "rivercolor": "rgb(173, 216, 230)",
         "showcoastlines": true,
         "showcountries": true,
         "showframe": false,
         "showlakes": true,
         "showland": true,
         "showocean": true,
         "showrivers": true
        },
        "height": 800,
        "template": {
         "data": {
          "bar": [
           {
            "error_x": {
             "color": "#2a3f5f"
            },
            "error_y": {
             "color": "#2a3f5f"
            },
            "marker": {
             "line": {
              "color": "#E5ECF6",
              "width": 0.5
             },
             "pattern": {
              "fillmode": "overlay",
              "size": 10,
              "solidity": 0.2
             }
            },
            "type": "bar"
           }
          ],
          "barpolar": [
           {
            "marker": {
             "line": {
              "color": "#E5ECF6",
              "width": 0.5
             },
             "pattern": {
              "fillmode": "overlay",
              "size": 10,
              "solidity": 0.2
             }
            },
            "type": "barpolar"
           }
          ],
          "carpet": [
           {
            "aaxis": {
             "endlinecolor": "#2a3f5f",
             "gridcolor": "white",
             "linecolor": "white",
             "minorgridcolor": "white",
             "startlinecolor": "#2a3f5f"
            },
            "baxis": {
             "endlinecolor": "#2a3f5f",
             "gridcolor": "white",
             "linecolor": "white",
             "minorgridcolor": "white",
             "startlinecolor": "#2a3f5f"
            },
            "type": "carpet"
           }
          ],
          "choropleth": [
           {
            "colorbar": {
             "outlinewidth": 0,
             "ticks": ""
            },
            "type": "choropleth"
           }
          ],
          "contour": [
           {
            "colorbar": {
             "outlinewidth": 0,
             "ticks": ""
            },
            "colorscale": [
             [
              0,
              "#0d0887"
             ],
             [
              0.1111111111111111,
              "#46039f"
             ],
             [
              0.2222222222222222,
              "#7201a8"
             ],
             [
              0.3333333333333333,
              "#9c179e"
             ],
             [
              0.4444444444444444,
              "#bd3786"
             ],
             [
              0.5555555555555556,
              "#d8576b"
             ],
             [
              0.6666666666666666,
              "#ed7953"
             ],
             [
              0.7777777777777778,
              "#fb9f3a"
             ],
             [
              0.8888888888888888,
              "#fdca26"
             ],
             [
              1,
              "#f0f921"
             ]
            ],
            "type": "contour"
           }
          ],
          "contourcarpet": [
           {
            "colorbar": {
             "outlinewidth": 0,
             "ticks": ""
            },
            "type": "contourcarpet"
           }
          ],
          "heatmap": [
           {
            "colorbar": {
             "outlinewidth": 0,
             "ticks": ""
            },
            "colorscale": [
             [
              0,
              "#0d0887"
             ],
             [
              0.1111111111111111,
              "#46039f"
             ],
             [
              0.2222222222222222,
              "#7201a8"
             ],
             [
              0.3333333333333333,
              "#9c179e"
             ],
             [
              0.4444444444444444,
              "#bd3786"
             ],
             [
              0.5555555555555556,
              "#d8576b"
             ],
             [
              0.6666666666666666,
              "#ed7953"
             ],
             [
              0.7777777777777778,
              "#fb9f3a"
             ],
             [
              0.8888888888888888,
              "#fdca26"
             ],
             [
              1,
              "#f0f921"
             ]
            ],
            "type": "heatmap"
           }
          ],
          "heatmapgl": [
           {
            "colorbar": {
             "outlinewidth": 0,
             "ticks": ""
            },
            "colorscale": [
             [
              0,
              "#0d0887"
             ],
             [
              0.1111111111111111,
              "#46039f"
             ],
             [
              0.2222222222222222,
              "#7201a8"
             ],
             [
              0.3333333333333333,
              "#9c179e"
             ],
             [
              0.4444444444444444,
              "#bd3786"
             ],
             [
              0.5555555555555556,
              "#d8576b"
             ],
             [
              0.6666666666666666,
              "#ed7953"
             ],
             [
              0.7777777777777778,
              "#fb9f3a"
             ],
             [
              0.8888888888888888,
              "#fdca26"
             ],
             [
              1,
              "#f0f921"
             ]
            ],
            "type": "heatmapgl"
           }
          ],
          "histogram": [
           {
            "marker": {
             "pattern": {
              "fillmode": "overlay",
              "size": 10,
              "solidity": 0.2
             }
            },
            "type": "histogram"
           }
          ],
          "histogram2d": [
           {
            "colorbar": {
             "outlinewidth": 0,
             "ticks": ""
            },
            "colorscale": [
             [
              0,
              "#0d0887"
             ],
             [
              0.1111111111111111,
              "#46039f"
             ],
             [
              0.2222222222222222,
              "#7201a8"
             ],
             [
              0.3333333333333333,
              "#9c179e"
             ],
             [
              0.4444444444444444,
              "#bd3786"
             ],
             [
              0.5555555555555556,
              "#d8576b"
             ],
             [
              0.6666666666666666,
              "#ed7953"
             ],
             [
              0.7777777777777778,
              "#fb9f3a"
             ],
             [
              0.8888888888888888,
              "#fdca26"
             ],
             [
              1,
              "#f0f921"
             ]
            ],
            "type": "histogram2d"
           }
          ],
          "histogram2dcontour": [
           {
            "colorbar": {
             "outlinewidth": 0,
             "ticks": ""
            },
            "colorscale": [
             [
              0,
              "#0d0887"
             ],
             [
              0.1111111111111111,
              "#46039f"
             ],
             [
              0.2222222222222222,
              "#7201a8"
             ],
             [
              0.3333333333333333,
              "#9c179e"
             ],
             [
              0.4444444444444444,
              "#bd3786"
             ],
             [
              0.5555555555555556,
              "#d8576b"
             ],
             [
              0.6666666666666666,
              "#ed7953"
             ],
             [
              0.7777777777777778,
              "#fb9f3a"
             ],
             [
              0.8888888888888888,
              "#fdca26"
             ],
             [
              1,
              "#f0f921"
             ]
            ],
            "type": "histogram2dcontour"
           }
          ],
          "mesh3d": [
           {
            "colorbar": {
             "outlinewidth": 0,
             "ticks": ""
            },
            "type": "mesh3d"
           }
          ],
          "parcoords": [
           {
            "line": {
             "colorbar": {
              "outlinewidth": 0,
              "ticks": ""
             }
            },
            "type": "parcoords"
           }
          ],
          "pie": [
           {
            "automargin": true,
            "type": "pie"
           }
          ],
          "scatter": [
           {
            "fillpattern": {
             "fillmode": "overlay",
             "size": 10,
             "solidity": 0.2
            },
            "type": "scatter"
           }
          ],
          "scatter3d": [
           {
            "line": {
             "colorbar": {
              "outlinewidth": 0,
              "ticks": ""
             }
            },
            "marker": {
             "colorbar": {
              "outlinewidth": 0,
              "ticks": ""
             }
            },
            "type": "scatter3d"
           }
          ],
          "scattercarpet": [
           {
            "marker": {
             "colorbar": {
              "outlinewidth": 0,
              "ticks": ""
             }
            },
            "type": "scattercarpet"
           }
          ],
          "scattergeo": [
           {
            "marker": {
             "colorbar": {
              "outlinewidth": 0,
              "ticks": ""
             }
            },
            "type": "scattergeo"
           }
          ],
          "scattergl": [
           {
            "marker": {
             "colorbar": {
              "outlinewidth": 0,
              "ticks": ""
             }
            },
            "type": "scattergl"
           }
          ],
          "scattermapbox": [
           {
            "marker": {
             "colorbar": {
              "outlinewidth": 0,
              "ticks": ""
             }
            },
            "type": "scattermapbox"
           }
          ],
          "scatterpolar": [
           {
            "marker": {
             "colorbar": {
              "outlinewidth": 0,
              "ticks": ""
             }
            },
            "type": "scatterpolar"
           }
          ],
          "scatterpolargl": [
           {
            "marker": {
             "colorbar": {
              "outlinewidth": 0,
              "ticks": ""
             }
            },
            "type": "scatterpolargl"
           }
          ],
          "scatterternary": [
           {
            "marker": {
             "colorbar": {
              "outlinewidth": 0,
              "ticks": ""
             }
            },
            "type": "scatterternary"
           }
          ],
          "surface": [
           {
            "colorbar": {
             "outlinewidth": 0,
             "ticks": ""
            },
            "colorscale": [
             [
              0,
              "#0d0887"
             ],
             [
              0.1111111111111111,
              "#46039f"
             ],
             [
              0.2222222222222222,
              "#7201a8"
             ],
             [
              0.3333333333333333,
              "#9c179e"
             ],
             [
              0.4444444444444444,
              "#bd3786"
             ],
             [
              0.5555555555555556,
              "#d8576b"
             ],
             [
              0.6666666666666666,
              "#ed7953"
             ],
             [
              0.7777777777777778,
              "#fb9f3a"
             ],
             [
              0.8888888888888888,
              "#fdca26"
             ],
             [
              1,
              "#f0f921"
             ]
            ],
            "type": "surface"
           }
          ],
          "table": [
           {
            "cells": {
             "fill": {
              "color": "#EBF0F8"
             },
             "line": {
              "color": "white"
             }
            },
            "header": {
             "fill": {
              "color": "#C8D4E3"
             },
             "line": {
              "color": "white"
             }
            },
            "type": "table"
           }
          ]
         },
         "layout": {
          "annotationdefaults": {
           "arrowcolor": "#2a3f5f",
           "arrowhead": 0,
           "arrowwidth": 1
          },
          "autotypenumbers": "strict",
          "coloraxis": {
           "colorbar": {
            "outlinewidth": 0,
            "ticks": ""
           }
          },
          "colorscale": {
           "diverging": [
            [
             0,
             "#8e0152"
            ],
            [
             0.1,
             "#c51b7d"
            ],
            [
             0.2,
             "#de77ae"
            ],
            [
             0.3,
             "#f1b6da"
            ],
            [
             0.4,
             "#fde0ef"
            ],
            [
             0.5,
             "#f7f7f7"
            ],
            [
             0.6,
             "#e6f5d0"
            ],
            [
             0.7,
             "#b8e186"
            ],
            [
             0.8,
             "#7fbc41"
            ],
            [
             0.9,
             "#4d9221"
            ],
            [
             1,
             "#276419"
            ]
           ],
           "sequential": [
            [
             0,
             "#0d0887"
            ],
            [
             0.1111111111111111,
             "#46039f"
            ],
            [
             0.2222222222222222,
             "#7201a8"
            ],
            [
             0.3333333333333333,
             "#9c179e"
            ],
            [
             0.4444444444444444,
             "#bd3786"
            ],
            [
             0.5555555555555556,
             "#d8576b"
            ],
            [
             0.6666666666666666,
             "#ed7953"
            ],
            [
             0.7777777777777778,
             "#fb9f3a"
            ],
            [
             0.8888888888888888,
             "#fdca26"
            ],
            [
             1,
             "#f0f921"
            ]
           ],
           "sequentialminus": [
            [
             0,
             "#0d0887"
            ],
            [
             0.1111111111111111,
             "#46039f"
            ],
            [
             0.2222222222222222,
             "#7201a8"
            ],
            [
             0.3333333333333333,
             "#9c179e"
            ],
            [
             0.4444444444444444,
             "#bd3786"
            ],
            [
             0.5555555555555556,
             "#d8576b"
            ],
            [
             0.6666666666666666,
             "#ed7953"
            ],
            [
             0.7777777777777778,
             "#fb9f3a"
            ],
            [
             0.8888888888888888,
             "#fdca26"
            ],
            [
             1,
             "#f0f921"
            ]
           ]
          },
          "colorway": [
           "#636efa",
           "#EF553B",
           "#00cc96",
           "#ab63fa",
           "#FFA15A",
           "#19d3f3",
           "#FF6692",
           "#B6E880",
           "#FF97FF",
           "#FECB52"
          ],
          "font": {
           "color": "#2a3f5f"
          },
          "geo": {
           "bgcolor": "white",
           "lakecolor": "white",
           "landcolor": "#E5ECF6",
           "showlakes": true,
           "showland": true,
           "subunitcolor": "white"
          },
          "hoverlabel": {
           "align": "left"
          },
          "hovermode": "closest",
          "mapbox": {
           "style": "light"
          },
          "paper_bgcolor": "white",
          "plot_bgcolor": "#E5ECF6",
          "polar": {
           "angularaxis": {
            "gridcolor": "white",
            "linecolor": "white",
            "ticks": ""
           },
           "bgcolor": "#E5ECF6",
           "radialaxis": {
            "gridcolor": "white",
            "linecolor": "white",
            "ticks": ""
           }
          },
          "scene": {
           "xaxis": {
            "backgroundcolor": "#E5ECF6",
            "gridcolor": "white",
            "gridwidth": 2,
            "linecolor": "white",
            "showbackground": true,
            "ticks": "",
            "zerolinecolor": "white"
           },
           "yaxis": {
            "backgroundcolor": "#E5ECF6",
            "gridcolor": "white",
            "gridwidth": 2,
            "linecolor": "white",
            "showbackground": true,
            "ticks": "",
            "zerolinecolor": "white"
           },
           "zaxis": {
            "backgroundcolor": "#E5ECF6",
            "gridcolor": "white",
            "gridwidth": 2,
            "linecolor": "white",
            "showbackground": true,
            "ticks": "",
            "zerolinecolor": "white"
           }
          },
          "shapedefaults": {
           "line": {
            "color": "#2a3f5f"
           }
          },
          "ternary": {
           "aaxis": {
            "gridcolor": "white",
            "linecolor": "white",
            "ticks": ""
           },
           "baxis": {
            "gridcolor": "white",
            "linecolor": "white",
            "ticks": ""
           },
           "bgcolor": "#E5ECF6",
           "caxis": {
            "gridcolor": "white",
            "linecolor": "white",
            "ticks": ""
           }
          },
          "title": {
           "x": 0.05
          },
          "xaxis": {
           "automargin": true,
           "gridcolor": "white",
           "linecolor": "white",
           "ticks": "",
           "title": {
            "standoff": 15
           },
           "zerolinecolor": "white",
           "zerolinewidth": 2
          },
          "yaxis": {
           "automargin": true,
           "gridcolor": "white",
           "linecolor": "white",
           "ticks": "",
           "title": {
            "standoff": 15
           },
           "zerolinecolor": "white",
           "zerolinewidth": 2
          }
         }
        },
        "title": {
         "text": "Migrants to the United States from Other Countries (as of 20240101)"
        },
        "width": 1000
       }
      }
     },
     "metadata": {},
     "output_type": "display_data"
    }
   ],
   "source": [
    "import pandas as pd\n",
    "import plotly.graph_objects as go\n",
    "\n",
    "# Filter out rows where migrants are from other countries\n",
    "migrants_df = df[df['Country_From'].notna()]\n",
    "\n",
    "# Convert 'Migrants_Label' column to numeric\n",
    "migrants_df['Migrants_Label'] = pd.to_numeric(migrants_df['Migrants_Label'].str.replace(',', ''), errors='coerce')\n",
    "\n",
    "# Create a Plotly figure\n",
    "fig = go.Figure(go.Scattergeo(\n",
    "    lon = migrants_df['Longitude'],\n",
    "    lat = migrants_df['Latitude'],\n",
    "    text = migrants_df['Country_From'],\n",
    "    marker = dict(\n",
    "        color = migrants_df['Migrants_Label'], # Set color equal to migrant label\n",
    "        colorscale = 'Viridis', # Choose a colorscale\n",
    "        reversescale = True, # Reverse colorscale\n",
    "        cmin = 0, # Set minimum value of the color scale\n",
    "        cmax = migrants_df['Migrants_Label'].max(), # Set maximum value of the color scale\n",
    "        colorbar_title = 'Migrants' # Set color bar title\n",
    "    )\n",
    "))\n",
    "\n",
    "# Customize layout\n",
    "fig.update_layout(\n",
    "    title = 'Migrants to the United States from Other Countries (as of 20240101)',\n",
    "    geo=dict(\n",
    "        projection_type='orthographic',\n",
    "        landcolor = 'rgb(230, 230, 230)',\n",
    "        coastlinecolor = 'rgb(160, 160, 160)',\n",
    "        showocean=True,  # Show ocean\n",
    "        oceancolor='rgb(173, 216, 230)',  # Color of the ocean\n",
    "        showland=True,  # Show land\n",
    "        showlakes=True,  # Show lakes\n",
    "        lakecolor='rgb(173, 216, 230)',  # Color of the lakes\n",
    "        showrivers=True,  # Show rivers\n",
    "        rivercolor='rgb(173, 216, 230)',  # Color of the rivers\n",
    "        showframe=False,  # Hide frame around the map\n",
    "        showcoastlines=True,  # Show coastlines\n",
    "        showcountries=True,  # Show country boundaries\n",
    "        countrywidth=1,  # Width of country boundaries\n",
    "    ),\n",
    "    width=1000,  # Set the width of the plot\n",
    "    height=800,  # Set the height of the plot\n",
    ")\n",
    "\n",
    "# Show the plot\n",
    "fig.show()\n",
    "\n",
    "fig.write_html(\"New_migrants_map.html\")"
   ]
  }
 ],
 "metadata": {
  "kernelspec": {
   "display_name": "base",
   "language": "python",
   "name": "python3"
  },
  "language_info": {
   "codemirror_mode": {
    "name": "ipython",
    "version": 3
   },
   "file_extension": ".py",
   "mimetype": "text/x-python",
   "name": "python",
   "nbconvert_exporter": "python",
   "pygments_lexer": "ipython3",
   "version": "3.11.5"
  }
 },
 "nbformat": 4,
 "nbformat_minor": 2
}
